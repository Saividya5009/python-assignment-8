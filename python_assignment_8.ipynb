{
  "nbformat": 4,
  "nbformat_minor": 0,
  "metadata": {
    "colab": {
      "name": "python assignment 8.ipynb",
      "provenance": [],
      "authorship_tag": "ABX9TyOoE6JzmGDaYNPb2FkeVRkj",
      "include_colab_link": true
    },
    "kernelspec": {
      "name": "python3",
      "display_name": "Python 3"
    }
  },
  "cells": [
    {
      "cell_type": "markdown",
      "metadata": {
        "id": "view-in-github",
        "colab_type": "text"
      },
      "source": [
        "<a href=\"https://colab.research.google.com/github/Saividya5009/python-assignment-8/blob/master/python_assignment_8.ipynb\" target=\"_parent\"><img src=\"https://colab.research.google.com/assets/colab-badge.svg\" alt=\"Open In Colab\"/></a>"
      ]
    },
    {
      "cell_type": "markdown",
      "metadata": {
        "id": "KqMkEXJbnEc2",
        "colab_type": "text"
      },
      "source": [
        "1. Write a program that prints the integers from 1 to 100. But for multiples of\n",
        "three print \"Fizz\" instead of the number, and for the multiples of five print\n",
        "\"Buzz\". For numbers which are multiples of both three and five print \"FizzBuzz."
      ]
    },
    {
      "cell_type": "code",
      "metadata": {
        "id": "ilagrKg0nNgK",
        "colab_type": "code",
        "colab": {
          "base_uri": "https://localhost:8080/",
          "height": 1000
        },
        "outputId": "ecd3696e-6218-479d-9300-c1ed5a9e351c"
      },
      "source": [
        "for i in range(1,101):\n",
        "  if i % 3 == 0 and i % 5 ==0:\n",
        "    print(\"fizzbuzz\")\n",
        "  elif i % 3 == 0:\n",
        "    print(\"fizz\")\n",
        "  elif i % 5 == 0:\n",
        "    print(\"buzz\")\n",
        "  else:\n",
        "    print(i)"
      ],
      "execution_count": null,
      "outputs": [
        {
          "output_type": "stream",
          "text": [
            "1\n",
            "2\n",
            "fizz\n",
            "4\n",
            "buzz\n",
            "fizz\n",
            "7\n",
            "8\n",
            "fizz\n",
            "buzz\n",
            "11\n",
            "fizz\n",
            "13\n",
            "14\n",
            "fizzbuzz\n",
            "16\n",
            "17\n",
            "fizz\n",
            "19\n",
            "buzz\n",
            "fizz\n",
            "22\n",
            "23\n",
            "fizz\n",
            "buzz\n",
            "26\n",
            "fizz\n",
            "28\n",
            "29\n",
            "fizzbuzz\n",
            "31\n",
            "32\n",
            "fizz\n",
            "34\n",
            "buzz\n",
            "fizz\n",
            "37\n",
            "38\n",
            "fizz\n",
            "buzz\n",
            "41\n",
            "fizz\n",
            "43\n",
            "44\n",
            "fizzbuzz\n",
            "46\n",
            "47\n",
            "fizz\n",
            "49\n",
            "buzz\n",
            "fizz\n",
            "52\n",
            "53\n",
            "fizz\n",
            "buzz\n",
            "56\n",
            "fizz\n",
            "58\n",
            "59\n",
            "fizzbuzz\n",
            "61\n",
            "62\n",
            "fizz\n",
            "64\n",
            "buzz\n",
            "fizz\n",
            "67\n",
            "68\n",
            "fizz\n",
            "buzz\n",
            "71\n",
            "fizz\n",
            "73\n",
            "74\n",
            "fizzbuzz\n",
            "76\n",
            "77\n",
            "fizz\n",
            "79\n",
            "buzz\n",
            "fizz\n",
            "82\n",
            "83\n",
            "fizz\n",
            "buzz\n",
            "86\n",
            "fizz\n",
            "88\n",
            "89\n",
            "fizzbuzz\n",
            "91\n",
            "92\n",
            "fizz\n",
            "94\n",
            "buzz\n",
            "fizz\n",
            "97\n",
            "98\n",
            "fizz\n",
            "buzz\n"
          ],
          "name": "stdout"
        }
      ]
    },
    {
      "cell_type": "markdown",
      "metadata": {
        "id": "0lOPfCFW36Ax",
        "colab_type": "text"
      },
      "source": [
        " 2.Write a python program to find unique element from a list."
      ]
    },
    {
      "cell_type": "code",
      "metadata": {
        "id": "Msl0FWAY39dC",
        "colab_type": "code",
        "colab": {
          "base_uri": "https://localhost:8080/",
          "height": 153
        },
        "outputId": "245838dc-afe2-4860-f4e7-5eb75dad2630"
      },
      "source": [
        "L=[1,3,5,7,8,2,9,5,3,2,8,9,6]\n",
        "V=[]\n",
        "for i in L:\n",
        "  if i not in V:\n",
        "    V.append(i)\n",
        "for i in V:\n",
        "  print(i)"
      ],
      "execution_count": null,
      "outputs": [
        {
          "output_type": "stream",
          "text": [
            "1\n",
            "3\n",
            "5\n",
            "7\n",
            "8\n",
            "2\n",
            "9\n",
            "6\n"
          ],
          "name": "stdout"
        }
      ]
    },
    {
      "cell_type": "markdown",
      "metadata": {
        "id": "0NamnykY7lam",
        "colab_type": "text"
      },
      "source": [
        "4.Write a function that checks whether a number is in a given range."
      ]
    },
    {
      "cell_type": "code",
      "metadata": {
        "id": "xmdsuG7m8HSH",
        "colab_type": "code",
        "colab": {
          "base_uri": "https://localhost:8080/",
          "height": 34
        },
        "outputId": "94863742-be02-4fd5-b286-b579976f4a01"
      },
      "source": [
        "def number(n):\n",
        "  if n in range(1,10+1):\n",
        "    print(\"the num is inside the range\")\n",
        "  else:\n",
        "    print(\"the num is outside the range\")\n",
        "number(10)"
      ],
      "execution_count": null,
      "outputs": [
        {
          "output_type": "stream",
          "text": [
            "the num is inside the range\n"
          ],
          "name": "stdout"
        }
      ]
    },
    {
      "cell_type": "markdown",
      "metadata": {
        "id": "ybuyU7Sr-dbK",
        "colab_type": "text"
      },
      "source": [
        "5.Write a Python function that accepts a string and calculates the number of\n",
        "upper case letters and lower case letters."
      ]
    },
    {
      "cell_type": "code",
      "metadata": {
        "id": "3II221y6-sBT",
        "colab_type": "code",
        "colab": {
          "base_uri": "https://localhost:8080/",
          "height": 51
        },
        "outputId": "37b0d08c-ab4f-455d-bfd3-102cd8b6fc02"
      },
      "source": [
        "def string(s):\n",
        "  upper_count,lower_count=0,0\n",
        "  for a in s:\n",
        "    if a.isupper():\n",
        "      upper_count=upper_count+1\n",
        "    elif a.islower():\n",
        "      lower_count=lower_count+1\n",
        "    else:\n",
        "      pass\n",
        "  print(\"no of upper case charecters are:\",upper_count)\n",
        "  print(\"no of lower case charecters are:\",lower_count)\n",
        "string(\"hello your are A LUCKY girl\")\n"
      ],
      "execution_count": null,
      "outputs": [
        {
          "output_type": "stream",
          "text": [
            "no of upper case charecters are: 6\n",
            "no of lower case charecters are: 16\n"
          ],
          "name": "stdout"
        }
      ]
    },
    {
      "cell_type": "code",
      "metadata": {
        "id": "t5XdThAkN9Sp",
        "colab_type": "code",
        "colab": {
          "base_uri": "https://localhost:8080/",
          "height": 1000
        },
        "outputId": "5623d69d-76af-449e-9982-a8d22ac29f74"
      },
      "source": [
        "for fizzbuzz in range(100):  \n",
        "  \n",
        "    # number divisible by 3, print 'Fizz'  \n",
        "    # in place of the number \n",
        "    if fizzbuzz % 15 == 0:  \n",
        "        print(\"FizzBuzz\")                                          \n",
        "        continue\n",
        "  \n",
        "    # number divisible by 5, print 'Buzz' \n",
        "    # in place of the number \n",
        "    elif fizzbuzz % 3 == 0:      \n",
        "        print(\"Fizz\")                                          \n",
        "        continue\n",
        "  \n",
        "    # number divisible by 15 (divisible  \n",
        "    # by both 3 & 5), print 'FizzBuzz' in \n",
        "    # place of the number \n",
        "    elif fizzbuzz % 5 == 0:          \n",
        "        print(\"Buzz\")                                      \n",
        "        continue\n",
        "  \n",
        "    # print numbers \n",
        "    print(fizzbuzz) "
      ],
      "execution_count": null,
      "outputs": [
        {
          "output_type": "stream",
          "text": [
            "FizzBuzz\n",
            "1\n",
            "2\n",
            "Fizz\n",
            "4\n",
            "Buzz\n",
            "Fizz\n",
            "7\n",
            "8\n",
            "Fizz\n",
            "Buzz\n",
            "11\n",
            "Fizz\n",
            "13\n",
            "14\n",
            "FizzBuzz\n",
            "16\n",
            "17\n",
            "Fizz\n",
            "19\n",
            "Buzz\n",
            "Fizz\n",
            "22\n",
            "23\n",
            "Fizz\n",
            "Buzz\n",
            "26\n",
            "Fizz\n",
            "28\n",
            "29\n",
            "FizzBuzz\n",
            "31\n",
            "32\n",
            "Fizz\n",
            "34\n",
            "Buzz\n",
            "Fizz\n",
            "37\n",
            "38\n",
            "Fizz\n",
            "Buzz\n",
            "41\n",
            "Fizz\n",
            "43\n",
            "44\n",
            "FizzBuzz\n",
            "46\n",
            "47\n",
            "Fizz\n",
            "49\n",
            "Buzz\n",
            "Fizz\n",
            "52\n",
            "53\n",
            "Fizz\n",
            "Buzz\n",
            "56\n",
            "Fizz\n",
            "58\n",
            "59\n",
            "FizzBuzz\n",
            "61\n",
            "62\n",
            "Fizz\n",
            "64\n",
            "Buzz\n",
            "Fizz\n",
            "67\n",
            "68\n",
            "Fizz\n",
            "Buzz\n",
            "71\n",
            "Fizz\n",
            "73\n",
            "74\n",
            "FizzBuzz\n",
            "76\n",
            "77\n",
            "Fizz\n",
            "79\n",
            "Buzz\n",
            "Fizz\n",
            "82\n",
            "83\n",
            "Fizz\n",
            "Buzz\n",
            "86\n",
            "Fizz\n",
            "88\n",
            "89\n",
            "FizzBuzz\n",
            "91\n",
            "92\n",
            "Fizz\n",
            "94\n",
            "Buzz\n",
            "Fizz\n",
            "97\n",
            "98\n",
            "Fizz\n"
          ],
          "name": "stdout"
        }
      ]
    }
  ]
}